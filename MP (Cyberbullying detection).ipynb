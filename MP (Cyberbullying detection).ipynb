{
 "cells": [
  {
   "cell_type": "code",
   "execution_count": 2,
   "metadata": {
    "id": "d8cGeaJee4EH"
   },
   "outputs": [
    {
     "ename": "ModuleNotFoundError",
     "evalue": "No module named 'seaborn'",
     "output_type": "error",
     "traceback": [
      "\u001b[1;31m---------------------------------------------------------------------------\u001b[0m",
      "\u001b[1;31mModuleNotFoundError\u001b[0m                       Traceback (most recent call last)",
      "Cell \u001b[1;32mIn[2], line 6\u001b[0m\n\u001b[0;32m      4\u001b[0m \u001b[38;5;28;01mimport\u001b[39;00m \u001b[38;5;21;01mmatplotlib\u001b[39;00m\u001b[38;5;21;01m.\u001b[39;00m\u001b[38;5;21;01mpyplot\u001b[39;00m \u001b[38;5;28;01mas\u001b[39;00m \u001b[38;5;21;01mplt\u001b[39;00m\n\u001b[0;32m      5\u001b[0m \u001b[38;5;28;01mimport\u001b[39;00m \u001b[38;5;21;01msklearn\u001b[39;00m\n\u001b[1;32m----> 6\u001b[0m \u001b[38;5;28;01mimport\u001b[39;00m \u001b[38;5;21;01mseaborn\u001b[39;00m \u001b[38;5;28;01mas\u001b[39;00m \u001b[38;5;21;01msns\u001b[39;00m\n",
      "\u001b[1;31mModuleNotFoundError\u001b[0m: No module named 'seaborn'"
     ]
    }
   ],
   "source": [
    "%matplotlib inline\n",
    "import numpy as np\n",
    "import pandas as pd\n",
    "import matplotlib.pyplot as plt\n",
    "import sklearn"
   ]
  },
  {
   "cell_type": "code",
   "execution_count": null,
   "metadata": {
    "id": "99pqhaqZe71W"
   },
   "outputs": [],
   "source": [
    "df = pd.read_csv(r\"D:\\College\\Mini Project\\labeled_tweets.csv\")"
   ]
  },
  {
   "cell_type": "code",
   "execution_count": null,
   "metadata": {
    "colab": {
     "base_uri": "https://localhost:8080/",
     "height": 424
    },
    "id": "Nj6PtULInOTK",
    "outputId": "7ad30069-ae5c-4414-a32e-c168546687fb"
   },
   "outputs": [
    {
     "data": {
      "text/html": [
       "<div>\n",
       "<style scoped>\n",
       "    .dataframe tbody tr th:only-of-type {\n",
       "        vertical-align: middle;\n",
       "    }\n",
       "\n",
       "    .dataframe tbody tr th {\n",
       "        vertical-align: top;\n",
       "    }\n",
       "\n",
       "    .dataframe thead th {\n",
       "        text-align: right;\n",
       "    }\n",
       "</style>\n",
       "<table border=\"1\" class=\"dataframe\">\n",
       "  <thead>\n",
       "    <tr style=\"text-align: right;\">\n",
       "      <th></th>\n",
       "      <th>id</th>\n",
       "      <th>label</th>\n",
       "      <th>full_text</th>\n",
       "    </tr>\n",
       "  </thead>\n",
       "  <tbody>\n",
       "    <tr>\n",
       "      <th>6</th>\n",
       "      <td>5.723350e+17</td>\n",
       "      <td>Offensive</td>\n",
       "      <td>of course you were born in serbia...you're as ...</td>\n",
       "    </tr>\n",
       "    <tr>\n",
       "      <th>7</th>\n",
       "      <td>5.723330e+17</td>\n",
       "      <td>Offensive</td>\n",
       "      <td>These girls are the equivalent of the irritati...</td>\n",
       "    </tr>\n",
       "    <tr>\n",
       "      <th>10</th>\n",
       "      <td>5.751740e+17</td>\n",
       "      <td>Offensive</td>\n",
       "      <td>RT @PhxKen: SIR WINSTON CHURCHHILL: \"ISLAM IS ...</td>\n",
       "    </tr>\n",
       "    <tr>\n",
       "      <th>11</th>\n",
       "      <td>5.692940e+17</td>\n",
       "      <td>Offensive</td>\n",
       "      <td>RT @TheRightWingM: Giuliani watched his city a...</td>\n",
       "    </tr>\n",
       "    <tr>\n",
       "      <th>12</th>\n",
       "      <td>4.464610e+17</td>\n",
       "      <td>Offensive</td>\n",
       "      <td>RT @YesYoureRacist: At least you're only a tin...</td>\n",
       "    </tr>\n",
       "    <tr>\n",
       "      <th>...</th>\n",
       "      <td>...</td>\n",
       "      <td>...</td>\n",
       "      <td>...</td>\n",
       "    </tr>\n",
       "    <tr>\n",
       "      <th>11957</th>\n",
       "      <td>NaN</td>\n",
       "      <td>Offensive</td>\n",
       "      <td>@BitchImFancy lol so retarded</td>\n",
       "    </tr>\n",
       "    <tr>\n",
       "      <th>11958</th>\n",
       "      <td>NaN</td>\n",
       "      <td>Offensive</td>\n",
       "      <td>@BitchImaStunna @VeshaaCouture lmao bitch shut up</td>\n",
       "    </tr>\n",
       "    <tr>\n",
       "      <th>11959</th>\n",
       "      <td>NaN</td>\n",
       "      <td>Offensive</td>\n",
       "      <td>@BitchMedia what's up my bitches?! Shout out f...</td>\n",
       "    </tr>\n",
       "    <tr>\n",
       "      <th>11960</th>\n",
       "      <td>NaN</td>\n",
       "      <td>Offensive</td>\n",
       "      <td>@Bitcheslovestar The only one of Mary's friend...</td>\n",
       "    </tr>\n",
       "    <tr>\n",
       "      <th>11961</th>\n",
       "      <td>NaN</td>\n",
       "      <td>Offensive</td>\n",
       "      <td>@BitchsLoveMosa do these bitches really love M...</td>\n",
       "    </tr>\n",
       "  </tbody>\n",
       "</table>\n",
       "<p>11792 rows × 3 columns</p>\n",
       "</div>"
      ],
      "text/plain": [
       "                 id      label  \\\n",
       "6      5.723350e+17  Offensive   \n",
       "7      5.723330e+17  Offensive   \n",
       "10     5.751740e+17  Offensive   \n",
       "11     5.692940e+17  Offensive   \n",
       "12     4.464610e+17  Offensive   \n",
       "...             ...        ...   \n",
       "11957           NaN  Offensive   \n",
       "11958           NaN  Offensive   \n",
       "11959           NaN  Offensive   \n",
       "11960           NaN  Offensive   \n",
       "11961           NaN  Offensive   \n",
       "\n",
       "                                               full_text  \n",
       "6      of course you were born in serbia...you're as ...  \n",
       "7      These girls are the equivalent of the irritati...  \n",
       "10     RT @PhxKen: SIR WINSTON CHURCHHILL: \"ISLAM IS ...  \n",
       "11     RT @TheRightWingM: Giuliani watched his city a...  \n",
       "12     RT @YesYoureRacist: At least you're only a tin...  \n",
       "...                                                  ...  \n",
       "11957                      @BitchImFancy lol so retarded  \n",
       "11958  @BitchImaStunna @VeshaaCouture lmao bitch shut up  \n",
       "11959  @BitchMedia what's up my bitches?! Shout out f...  \n",
       "11960  @Bitcheslovestar The only one of Mary's friend...  \n",
       "11961  @BitchsLoveMosa do these bitches really love M...  \n",
       "\n",
       "[11792 rows x 3 columns]"
      ]
     },
     "execution_count": 3,
     "metadata": {},
     "output_type": "execute_result"
    }
   ],
   "source": [
    "df1 = df.copy()\n",
    "df1=df1.drop_duplicates(subset=['full_text'], keep=False)\n",
    "df1.head()\n",
    "df1"
   ]
  },
  {
   "cell_type": "code",
   "execution_count": null,
   "metadata": {
    "colab": {
     "base_uri": "https://localhost:8080/",
     "height": 424
    },
    "id": "3qFq_0ztncrU",
    "outputId": "576b3cc1-4da0-4b8d-a42b-d9835fa44f58"
   },
   "outputs": [
    {
     "data": {
      "text/html": [
       "<div>\n",
       "<style scoped>\n",
       "    .dataframe tbody tr th:only-of-type {\n",
       "        vertical-align: middle;\n",
       "    }\n",
       "\n",
       "    .dataframe tbody tr th {\n",
       "        vertical-align: top;\n",
       "    }\n",
       "\n",
       "    .dataframe thead th {\n",
       "        text-align: right;\n",
       "    }\n",
       "</style>\n",
       "<table border=\"1\" class=\"dataframe\">\n",
       "  <thead>\n",
       "    <tr style=\"text-align: right;\">\n",
       "      <th></th>\n",
       "      <th>id</th>\n",
       "      <th>label</th>\n",
       "      <th>full_text</th>\n",
       "    </tr>\n",
       "  </thead>\n",
       "  <tbody>\n",
       "    <tr>\n",
       "      <th>6</th>\n",
       "      <td>5.723350e+17</td>\n",
       "      <td>Offensive</td>\n",
       "      <td>of course you were born in serbia...you're as ...</td>\n",
       "    </tr>\n",
       "    <tr>\n",
       "      <th>7</th>\n",
       "      <td>5.723330e+17</td>\n",
       "      <td>Offensive</td>\n",
       "      <td>These girls are the equivalent of the irritati...</td>\n",
       "    </tr>\n",
       "    <tr>\n",
       "      <th>10</th>\n",
       "      <td>5.751740e+17</td>\n",
       "      <td>Offensive</td>\n",
       "      <td>RT @PhxKen: SIR WINSTON CHURCHHILL: \"ISLAM IS ...</td>\n",
       "    </tr>\n",
       "    <tr>\n",
       "      <th>11</th>\n",
       "      <td>5.692940e+17</td>\n",
       "      <td>Offensive</td>\n",
       "      <td>RT @TheRightWingM: Giuliani watched his city a...</td>\n",
       "    </tr>\n",
       "    <tr>\n",
       "      <th>12</th>\n",
       "      <td>4.464610e+17</td>\n",
       "      <td>Offensive</td>\n",
       "      <td>RT @YesYoureRacist: At least you're only a tin...</td>\n",
       "    </tr>\n",
       "    <tr>\n",
       "      <th>...</th>\n",
       "      <td>...</td>\n",
       "      <td>...</td>\n",
       "      <td>...</td>\n",
       "    </tr>\n",
       "    <tr>\n",
       "      <th>9433</th>\n",
       "      <td>5.723310e+17</td>\n",
       "      <td>Non-offensive</td>\n",
       "      <td>mmmm #MKR getting v boring @lisamromano @garyd...</td>\n",
       "    </tr>\n",
       "    <tr>\n",
       "      <th>9434</th>\n",
       "      <td>5.723310e+17</td>\n",
       "      <td>Non-offensive</td>\n",
       "      <td>\"Sass\" 😆😈😆\\nRT @arna_jane: They say sass one m...</td>\n",
       "    </tr>\n",
       "    <tr>\n",
       "      <th>9435</th>\n",
       "      <td>5.723310e+17</td>\n",
       "      <td>Non-offensive</td>\n",
       "      <td>“@jgto: Steve’s starting to annoy me #MKR”\\n\\n...</td>\n",
       "    </tr>\n",
       "    <tr>\n",
       "      <th>9436</th>\n",
       "      <td>5.723310e+17</td>\n",
       "      <td>Non-offensive</td>\n",
       "      <td>“@4Cate: Has Colin outside for a smoke  #mkr”\\...</td>\n",
       "    </tr>\n",
       "    <tr>\n",
       "      <th>9437</th>\n",
       "      <td>5.605950e+17</td>\n",
       "      <td>Non-offensive</td>\n",
       "      <td>\"@panelrific: Let's go 🐧🐧🐧🐧🐧🐧😃\"</td>\n",
       "    </tr>\n",
       "  </tbody>\n",
       "</table>\n",
       "<p>9268 rows × 3 columns</p>\n",
       "</div>"
      ],
      "text/plain": [
       "                id          label  \\\n",
       "6     5.723350e+17      Offensive   \n",
       "7     5.723330e+17      Offensive   \n",
       "10    5.751740e+17      Offensive   \n",
       "11    5.692940e+17      Offensive   \n",
       "12    4.464610e+17      Offensive   \n",
       "...            ...            ...   \n",
       "9433  5.723310e+17  Non-offensive   \n",
       "9434  5.723310e+17  Non-offensive   \n",
       "9435  5.723310e+17  Non-offensive   \n",
       "9436  5.723310e+17  Non-offensive   \n",
       "9437  5.605950e+17  Non-offensive   \n",
       "\n",
       "                                              full_text  \n",
       "6     of course you were born in serbia...you're as ...  \n",
       "7     These girls are the equivalent of the irritati...  \n",
       "10    RT @PhxKen: SIR WINSTON CHURCHHILL: \"ISLAM IS ...  \n",
       "11    RT @TheRightWingM: Giuliani watched his city a...  \n",
       "12    RT @YesYoureRacist: At least you're only a tin...  \n",
       "...                                                 ...  \n",
       "9433  mmmm #MKR getting v boring @lisamromano @garyd...  \n",
       "9434  \"Sass\" 😆😈😆\\nRT @arna_jane: They say sass one m...  \n",
       "9435  “@jgto: Steve’s starting to annoy me #MKR”\\n\\n...  \n",
       "9436  “@4Cate: Has Colin outside for a smoke  #mkr”\\...  \n",
       "9437                    \"@panelrific: Let's go 🐧🐧🐧🐧🐧🐧😃\"  \n",
       "\n",
       "[9268 rows x 3 columns]"
      ]
     },
     "execution_count": 4,
     "metadata": {},
     "output_type": "execute_result"
    }
   ],
   "source": [
    "df1 = df1.dropna()\n",
    "df1"
   ]
  },
  {
   "cell_type": "code",
   "execution_count": null,
   "metadata": {
    "colab": {
     "base_uri": "https://localhost:8080/"
    },
    "id": "SQVOXBTznhEi",
    "outputId": "d9bf06b4-e196-47a0-be0c-cdd47faf83bf"
   },
   "outputs": [
    {
     "name": "stdout",
     "output_type": "stream",
     "text": [
      "6       of course you were born in serbia...you're as ...\n",
      "7       These girls are the equivalent of the irritati...\n",
      "10      RT @PhxKen: SIR WINSTON CHURCHHILL: \"ISLAM IS ...\n",
      "11      RT @TheRightWingM: Giuliani watched his city a...\n",
      "12      RT @YesYoureRacist: At least you're only a tin...\n",
      "                              ...                        \n",
      "9433    mmmm #MKR getting v boring @lisamromano @garyd...\n",
      "9434    \"Sass\" 😆😈😆\\nRT @arna_jane: They say sass one m...\n",
      "9435    “@jgto: Steve’s starting to annoy me #MKR”\\n\\n...\n",
      "9436    “@4Cate: Has Colin outside for a smoke  #mkr”\\...\n",
      "9437                      \"@panelrific: Let's go 🐧🐧🐧🐧🐧🐧😃\"\n",
      "Name: full_text, Length: 9268, dtype: object\n",
      "6           Offensive\n",
      "7           Offensive\n",
      "10          Offensive\n",
      "11          Offensive\n",
      "12          Offensive\n",
      "            ...      \n",
      "9433    Non-offensive\n",
      "9434    Non-offensive\n",
      "9435    Non-offensive\n",
      "9436    Non-offensive\n",
      "9437    Non-offensive\n",
      "Name: label, Length: 9268, dtype: object\n"
     ]
    }
   ],
   "source": [
    "from sklearn.model_selection import train_test_split\n",
    "\n",
    "X = df1['full_text']\n",
    "y = df1['label']\n",
    "\n",
    "X_train, X_test, y_train, y_test = train_test_split(X, y, test_size=0.2, random_state=42)\n",
    "\n",
    "print(X)\n",
    "print(y)"
   ]
  },
  {
   "cell_type": "code",
   "execution_count": null,
   "metadata": {
    "id": "RXy308P6n6sF"
   },
   "outputs": [],
   "source": [
    "#df1.to_csv('D:\\College\\Mini Project')"
   ]
  },
  {
   "cell_type": "code",
   "execution_count": null,
   "metadata": {
    "id": "TlxFstoXoL6v"
   },
   "outputs": [],
   "source": [
    "from sklearn.feature_extraction.text import TfidfVectorizer\n",
    "from sklearn.svm import SVC\n",
    "from sklearn.metrics import classification_report, confusion_matrix, roc_curve, roc_auc_score, precision_recall_curve\n",
    "import matplotlib.pyplot as plt"
   ]
  },
  {
   "cell_type": "code",
   "execution_count": null,
   "metadata": {
    "id": "1htAe94Fr1c7"
   },
   "outputs": [],
   "source": [
    "# Preprocessing and vectorization\n",
    "tfidf_vectorizer = TfidfVectorizer()\n",
    "X_train_tfidf = tfidf_vectorizer.fit_transform(X_train)\n",
    "X_test_tfidf = tfidf_vectorizer.transform(X_test)"
   ]
  },
  {
   "cell_type": "code",
   "execution_count": null,
   "metadata": {
    "colab": {
     "base_uri": "https://localhost:8080/",
     "height": 75
    },
    "id": "KSt-o3GIr4an",
    "outputId": "03cf55b5-ca7f-4acd-dff8-8e32d4ba61d6"
   },
   "outputs": [
    {
     "data": {
      "text/html": [
       "<style>#sk-container-id-1 {\n",
       "  /* Definition of color scheme common for light and dark mode */\n",
       "  --sklearn-color-text: black;\n",
       "  --sklearn-color-line: gray;\n",
       "  /* Definition of color scheme for unfitted estimators */\n",
       "  --sklearn-color-unfitted-level-0: #fff5e6;\n",
       "  --sklearn-color-unfitted-level-1: #f6e4d2;\n",
       "  --sklearn-color-unfitted-level-2: #ffe0b3;\n",
       "  --sklearn-color-unfitted-level-3: chocolate;\n",
       "  /* Definition of color scheme for fitted estimators */\n",
       "  --sklearn-color-fitted-level-0: #f0f8ff;\n",
       "  --sklearn-color-fitted-level-1: #d4ebff;\n",
       "  --sklearn-color-fitted-level-2: #b3dbfd;\n",
       "  --sklearn-color-fitted-level-3: cornflowerblue;\n",
       "\n",
       "  /* Specific color for light theme */\n",
       "  --sklearn-color-text-on-default-background: var(--sg-text-color, var(--theme-code-foreground, var(--jp-content-font-color1, black)));\n",
       "  --sklearn-color-background: var(--sg-background-color, var(--theme-background, var(--jp-layout-color0, white)));\n",
       "  --sklearn-color-border-box: var(--sg-text-color, var(--theme-code-foreground, var(--jp-content-font-color1, black)));\n",
       "  --sklearn-color-icon: #696969;\n",
       "\n",
       "  @media (prefers-color-scheme: dark) {\n",
       "    /* Redefinition of color scheme for dark theme */\n",
       "    --sklearn-color-text-on-default-background: var(--sg-text-color, var(--theme-code-foreground, var(--jp-content-font-color1, white)));\n",
       "    --sklearn-color-background: var(--sg-background-color, var(--theme-background, var(--jp-layout-color0, #111)));\n",
       "    --sklearn-color-border-box: var(--sg-text-color, var(--theme-code-foreground, var(--jp-content-font-color1, white)));\n",
       "    --sklearn-color-icon: #878787;\n",
       "  }\n",
       "}\n",
       "\n",
       "#sk-container-id-1 {\n",
       "  color: var(--sklearn-color-text);\n",
       "}\n",
       "\n",
       "#sk-container-id-1 pre {\n",
       "  padding: 0;\n",
       "}\n",
       "\n",
       "#sk-container-id-1 input.sk-hidden--visually {\n",
       "  border: 0;\n",
       "  clip: rect(1px 1px 1px 1px);\n",
       "  clip: rect(1px, 1px, 1px, 1px);\n",
       "  height: 1px;\n",
       "  margin: -1px;\n",
       "  overflow: hidden;\n",
       "  padding: 0;\n",
       "  position: absolute;\n",
       "  width: 1px;\n",
       "}\n",
       "\n",
       "#sk-container-id-1 div.sk-dashed-wrapped {\n",
       "  border: 1px dashed var(--sklearn-color-line);\n",
       "  margin: 0 0.4em 0.5em 0.4em;\n",
       "  box-sizing: border-box;\n",
       "  padding-bottom: 0.4em;\n",
       "  background-color: var(--sklearn-color-background);\n",
       "}\n",
       "\n",
       "#sk-container-id-1 div.sk-container {\n",
       "  /* jupyter's `normalize.less` sets `[hidden] { display: none; }`\n",
       "     but bootstrap.min.css set `[hidden] { display: none !important; }`\n",
       "     so we also need the `!important` here to be able to override the\n",
       "     default hidden behavior on the sphinx rendered scikit-learn.org.\n",
       "     See: https://github.com/scikit-learn/scikit-learn/issues/21755 */\n",
       "  display: inline-block !important;\n",
       "  position: relative;\n",
       "}\n",
       "\n",
       "#sk-container-id-1 div.sk-text-repr-fallback {\n",
       "  display: none;\n",
       "}\n",
       "\n",
       "div.sk-parallel-item,\n",
       "div.sk-serial,\n",
       "div.sk-item {\n",
       "  /* draw centered vertical line to link estimators */\n",
       "  background-image: linear-gradient(var(--sklearn-color-text-on-default-background), var(--sklearn-color-text-on-default-background));\n",
       "  background-size: 2px 100%;\n",
       "  background-repeat: no-repeat;\n",
       "  background-position: center center;\n",
       "}\n",
       "\n",
       "/* Parallel-specific style estimator block */\n",
       "\n",
       "#sk-container-id-1 div.sk-parallel-item::after {\n",
       "  content: \"\";\n",
       "  width: 100%;\n",
       "  border-bottom: 2px solid var(--sklearn-color-text-on-default-background);\n",
       "  flex-grow: 1;\n",
       "}\n",
       "\n",
       "#sk-container-id-1 div.sk-parallel {\n",
       "  display: flex;\n",
       "  align-items: stretch;\n",
       "  justify-content: center;\n",
       "  background-color: var(--sklearn-color-background);\n",
       "  position: relative;\n",
       "}\n",
       "\n",
       "#sk-container-id-1 div.sk-parallel-item {\n",
       "  display: flex;\n",
       "  flex-direction: column;\n",
       "}\n",
       "\n",
       "#sk-container-id-1 div.sk-parallel-item:first-child::after {\n",
       "  align-self: flex-end;\n",
       "  width: 50%;\n",
       "}\n",
       "\n",
       "#sk-container-id-1 div.sk-parallel-item:last-child::after {\n",
       "  align-self: flex-start;\n",
       "  width: 50%;\n",
       "}\n",
       "\n",
       "#sk-container-id-1 div.sk-parallel-item:only-child::after {\n",
       "  width: 0;\n",
       "}\n",
       "\n",
       "/* Serial-specific style estimator block */\n",
       "\n",
       "#sk-container-id-1 div.sk-serial {\n",
       "  display: flex;\n",
       "  flex-direction: column;\n",
       "  align-items: center;\n",
       "  background-color: var(--sklearn-color-background);\n",
       "  padding-right: 1em;\n",
       "  padding-left: 1em;\n",
       "}\n",
       "\n",
       "\n",
       "/* Toggleable style: style used for estimator/Pipeline/ColumnTransformer box that is\n",
       "clickable and can be expanded/collapsed.\n",
       "- Pipeline and ColumnTransformer use this feature and define the default style\n",
       "- Estimators will overwrite some part of the style using the `sk-estimator` class\n",
       "*/\n",
       "\n",
       "/* Pipeline and ColumnTransformer style (default) */\n",
       "\n",
       "#sk-container-id-1 div.sk-toggleable {\n",
       "  /* Default theme specific background. It is overwritten whether we have a\n",
       "  specific estimator or a Pipeline/ColumnTransformer */\n",
       "  background-color: var(--sklearn-color-background);\n",
       "}\n",
       "\n",
       "/* Toggleable label */\n",
       "#sk-container-id-1 label.sk-toggleable__label {\n",
       "  cursor: pointer;\n",
       "  display: block;\n",
       "  width: 100%;\n",
       "  margin-bottom: 0;\n",
       "  padding: 0.5em;\n",
       "  box-sizing: border-box;\n",
       "  text-align: center;\n",
       "}\n",
       "\n",
       "#sk-container-id-1 label.sk-toggleable__label-arrow:before {\n",
       "  /* Arrow on the left of the label */\n",
       "  content: \"▸\";\n",
       "  float: left;\n",
       "  margin-right: 0.25em;\n",
       "  color: var(--sklearn-color-icon);\n",
       "}\n",
       "\n",
       "#sk-container-id-1 label.sk-toggleable__label-arrow:hover:before {\n",
       "  color: var(--sklearn-color-text);\n",
       "}\n",
       "\n",
       "/* Toggleable content - dropdown */\n",
       "\n",
       "#sk-container-id-1 div.sk-toggleable__content {\n",
       "  max-height: 0;\n",
       "  max-width: 0;\n",
       "  overflow: hidden;\n",
       "  text-align: left;\n",
       "  /* unfitted */\n",
       "  background-color: var(--sklearn-color-unfitted-level-0);\n",
       "}\n",
       "\n",
       "#sk-container-id-1 div.sk-toggleable__content.fitted {\n",
       "  /* fitted */\n",
       "  background-color: var(--sklearn-color-fitted-level-0);\n",
       "}\n",
       "\n",
       "#sk-container-id-1 div.sk-toggleable__content pre {\n",
       "  margin: 0.2em;\n",
       "  border-radius: 0.25em;\n",
       "  color: var(--sklearn-color-text);\n",
       "  /* unfitted */\n",
       "  background-color: var(--sklearn-color-unfitted-level-0);\n",
       "}\n",
       "\n",
       "#sk-container-id-1 div.sk-toggleable__content.fitted pre {\n",
       "  /* unfitted */\n",
       "  background-color: var(--sklearn-color-fitted-level-0);\n",
       "}\n",
       "\n",
       "#sk-container-id-1 input.sk-toggleable__control:checked~div.sk-toggleable__content {\n",
       "  /* Expand drop-down */\n",
       "  max-height: 200px;\n",
       "  max-width: 100%;\n",
       "  overflow: auto;\n",
       "}\n",
       "\n",
       "#sk-container-id-1 input.sk-toggleable__control:checked~label.sk-toggleable__label-arrow:before {\n",
       "  content: \"▾\";\n",
       "}\n",
       "\n",
       "/* Pipeline/ColumnTransformer-specific style */\n",
       "\n",
       "#sk-container-id-1 div.sk-label input.sk-toggleable__control:checked~label.sk-toggleable__label {\n",
       "  color: var(--sklearn-color-text);\n",
       "  background-color: var(--sklearn-color-unfitted-level-2);\n",
       "}\n",
       "\n",
       "#sk-container-id-1 div.sk-label.fitted input.sk-toggleable__control:checked~label.sk-toggleable__label {\n",
       "  background-color: var(--sklearn-color-fitted-level-2);\n",
       "}\n",
       "\n",
       "/* Estimator-specific style */\n",
       "\n",
       "/* Colorize estimator box */\n",
       "#sk-container-id-1 div.sk-estimator input.sk-toggleable__control:checked~label.sk-toggleable__label {\n",
       "  /* unfitted */\n",
       "  background-color: var(--sklearn-color-unfitted-level-2);\n",
       "}\n",
       "\n",
       "#sk-container-id-1 div.sk-estimator.fitted input.sk-toggleable__control:checked~label.sk-toggleable__label {\n",
       "  /* fitted */\n",
       "  background-color: var(--sklearn-color-fitted-level-2);\n",
       "}\n",
       "\n",
       "#sk-container-id-1 div.sk-label label.sk-toggleable__label,\n",
       "#sk-container-id-1 div.sk-label label {\n",
       "  /* The background is the default theme color */\n",
       "  color: var(--sklearn-color-text-on-default-background);\n",
       "}\n",
       "\n",
       "/* On hover, darken the color of the background */\n",
       "#sk-container-id-1 div.sk-label:hover label.sk-toggleable__label {\n",
       "  color: var(--sklearn-color-text);\n",
       "  background-color: var(--sklearn-color-unfitted-level-2);\n",
       "}\n",
       "\n",
       "/* Label box, darken color on hover, fitted */\n",
       "#sk-container-id-1 div.sk-label.fitted:hover label.sk-toggleable__label.fitted {\n",
       "  color: var(--sklearn-color-text);\n",
       "  background-color: var(--sklearn-color-fitted-level-2);\n",
       "}\n",
       "\n",
       "/* Estimator label */\n",
       "\n",
       "#sk-container-id-1 div.sk-label label {\n",
       "  font-family: monospace;\n",
       "  font-weight: bold;\n",
       "  display: inline-block;\n",
       "  line-height: 1.2em;\n",
       "}\n",
       "\n",
       "#sk-container-id-1 div.sk-label-container {\n",
       "  text-align: center;\n",
       "}\n",
       "\n",
       "/* Estimator-specific */\n",
       "#sk-container-id-1 div.sk-estimator {\n",
       "  font-family: monospace;\n",
       "  border: 1px dotted var(--sklearn-color-border-box);\n",
       "  border-radius: 0.25em;\n",
       "  box-sizing: border-box;\n",
       "  margin-bottom: 0.5em;\n",
       "  /* unfitted */\n",
       "  background-color: var(--sklearn-color-unfitted-level-0);\n",
       "}\n",
       "\n",
       "#sk-container-id-1 div.sk-estimator.fitted {\n",
       "  /* fitted */\n",
       "  background-color: var(--sklearn-color-fitted-level-0);\n",
       "}\n",
       "\n",
       "/* on hover */\n",
       "#sk-container-id-1 div.sk-estimator:hover {\n",
       "  /* unfitted */\n",
       "  background-color: var(--sklearn-color-unfitted-level-2);\n",
       "}\n",
       "\n",
       "#sk-container-id-1 div.sk-estimator.fitted:hover {\n",
       "  /* fitted */\n",
       "  background-color: var(--sklearn-color-fitted-level-2);\n",
       "}\n",
       "\n",
       "/* Specification for estimator info (e.g. \"i\" and \"?\") */\n",
       "\n",
       "/* Common style for \"i\" and \"?\" */\n",
       "\n",
       ".sk-estimator-doc-link,\n",
       "a:link.sk-estimator-doc-link,\n",
       "a:visited.sk-estimator-doc-link {\n",
       "  float: right;\n",
       "  font-size: smaller;\n",
       "  line-height: 1em;\n",
       "  font-family: monospace;\n",
       "  background-color: var(--sklearn-color-background);\n",
       "  border-radius: 1em;\n",
       "  height: 1em;\n",
       "  width: 1em;\n",
       "  text-decoration: none !important;\n",
       "  margin-left: 1ex;\n",
       "  /* unfitted */\n",
       "  border: var(--sklearn-color-unfitted-level-1) 1pt solid;\n",
       "  color: var(--sklearn-color-unfitted-level-1);\n",
       "}\n",
       "\n",
       ".sk-estimator-doc-link.fitted,\n",
       "a:link.sk-estimator-doc-link.fitted,\n",
       "a:visited.sk-estimator-doc-link.fitted {\n",
       "  /* fitted */\n",
       "  border: var(--sklearn-color-fitted-level-1) 1pt solid;\n",
       "  color: var(--sklearn-color-fitted-level-1);\n",
       "}\n",
       "\n",
       "/* On hover */\n",
       "div.sk-estimator:hover .sk-estimator-doc-link:hover,\n",
       ".sk-estimator-doc-link:hover,\n",
       "div.sk-label-container:hover .sk-estimator-doc-link:hover,\n",
       ".sk-estimator-doc-link:hover {\n",
       "  /* unfitted */\n",
       "  background-color: var(--sklearn-color-unfitted-level-3);\n",
       "  color: var(--sklearn-color-background);\n",
       "  text-decoration: none;\n",
       "}\n",
       "\n",
       "div.sk-estimator.fitted:hover .sk-estimator-doc-link.fitted:hover,\n",
       ".sk-estimator-doc-link.fitted:hover,\n",
       "div.sk-label-container:hover .sk-estimator-doc-link.fitted:hover,\n",
       ".sk-estimator-doc-link.fitted:hover {\n",
       "  /* fitted */\n",
       "  background-color: var(--sklearn-color-fitted-level-3);\n",
       "  color: var(--sklearn-color-background);\n",
       "  text-decoration: none;\n",
       "}\n",
       "\n",
       "/* Span, style for the box shown on hovering the info icon */\n",
       ".sk-estimator-doc-link span {\n",
       "  display: none;\n",
       "  z-index: 9999;\n",
       "  position: relative;\n",
       "  font-weight: normal;\n",
       "  right: .2ex;\n",
       "  padding: .5ex;\n",
       "  margin: .5ex;\n",
       "  width: min-content;\n",
       "  min-width: 20ex;\n",
       "  max-width: 50ex;\n",
       "  color: var(--sklearn-color-text);\n",
       "  box-shadow: 2pt 2pt 4pt #999;\n",
       "  /* unfitted */\n",
       "  background: var(--sklearn-color-unfitted-level-0);\n",
       "  border: .5pt solid var(--sklearn-color-unfitted-level-3);\n",
       "}\n",
       "\n",
       ".sk-estimator-doc-link.fitted span {\n",
       "  /* fitted */\n",
       "  background: var(--sklearn-color-fitted-level-0);\n",
       "  border: var(--sklearn-color-fitted-level-3);\n",
       "}\n",
       "\n",
       ".sk-estimator-doc-link:hover span {\n",
       "  display: block;\n",
       "}\n",
       "\n",
       "/* \"?\"-specific style due to the `<a>` HTML tag */\n",
       "\n",
       "#sk-container-id-1 a.estimator_doc_link {\n",
       "  float: right;\n",
       "  font-size: 1rem;\n",
       "  line-height: 1em;\n",
       "  font-family: monospace;\n",
       "  background-color: var(--sklearn-color-background);\n",
       "  border-radius: 1rem;\n",
       "  height: 1rem;\n",
       "  width: 1rem;\n",
       "  text-decoration: none;\n",
       "  /* unfitted */\n",
       "  color: var(--sklearn-color-unfitted-level-1);\n",
       "  border: var(--sklearn-color-unfitted-level-1) 1pt solid;\n",
       "}\n",
       "\n",
       "#sk-container-id-1 a.estimator_doc_link.fitted {\n",
       "  /* fitted */\n",
       "  border: var(--sklearn-color-fitted-level-1) 1pt solid;\n",
       "  color: var(--sklearn-color-fitted-level-1);\n",
       "}\n",
       "\n",
       "/* On hover */\n",
       "#sk-container-id-1 a.estimator_doc_link:hover {\n",
       "  /* unfitted */\n",
       "  background-color: var(--sklearn-color-unfitted-level-3);\n",
       "  color: var(--sklearn-color-background);\n",
       "  text-decoration: none;\n",
       "}\n",
       "\n",
       "#sk-container-id-1 a.estimator_doc_link.fitted:hover {\n",
       "  /* fitted */\n",
       "  background-color: var(--sklearn-color-fitted-level-3);\n",
       "}\n",
       "</style><div id=\"sk-container-id-1\" class=\"sk-top-container\"><div class=\"sk-text-repr-fallback\"><pre>SVC(kernel=&#x27;linear&#x27;, random_state=42)</pre><b>In a Jupyter environment, please rerun this cell to show the HTML representation or trust the notebook. <br />On GitHub, the HTML representation is unable to render, please try loading this page with nbviewer.org.</b></div><div class=\"sk-container\" hidden><div class=\"sk-item\"><div class=\"sk-estimator fitted sk-toggleable\"><input class=\"sk-toggleable__control sk-hidden--visually\" id=\"sk-estimator-id-1\" type=\"checkbox\" checked><label for=\"sk-estimator-id-1\" class=\"sk-toggleable__label fitted sk-toggleable__label-arrow fitted\">&nbsp;&nbsp;SVC<a class=\"sk-estimator-doc-link fitted\" rel=\"noreferrer\" target=\"_blank\" href=\"https://scikit-learn.org/1.4/modules/generated/sklearn.svm.SVC.html\">?<span>Documentation for SVC</span></a><span class=\"sk-estimator-doc-link fitted\">i<span>Fitted</span></span></label><div class=\"sk-toggleable__content fitted\"><pre>SVC(kernel=&#x27;linear&#x27;, random_state=42)</pre></div> </div></div></div></div>"
      ],
      "text/plain": [
       "SVC(kernel='linear', random_state=42)"
      ]
     },
     "execution_count": 9,
     "metadata": {},
     "output_type": "execute_result"
    }
   ],
   "source": [
    "# Initialize and train the SVM classifier\n",
    "svm_clf = SVC(kernel='linear', random_state=42)\n",
    "svm_clf.fit(X_train_tfidf, y_train)"
   ]
  },
  {
   "cell_type": "code",
   "execution_count": null,
   "metadata": {
    "id": "A6dAQoMlr8Ky"
   },
   "outputs": [],
   "source": [
    "# Make predictions on the testing set\n",
    "y_pred_test = svm_clf.predict(X_test_tfidf)"
   ]
  },
  {
   "cell_type": "code",
   "execution_count": null,
   "metadata": {
    "colab": {
     "base_uri": "https://localhost:8080/"
    },
    "id": "x2wr5Eb0sBeT",
    "outputId": "10be36aa-b63b-4a9d-8a11-950fa359fa15"
   },
   "outputs": [
    {
     "name": "stdout",
     "output_type": "stream",
     "text": [
      "Classification Report on Testing Set:\n",
      "               precision    recall  f1-score   support\n",
      "\n",
      "Non-offensive       0.88      0.95      0.91      1280\n",
      "    Offensive       0.86      0.72      0.78       574\n",
      "\n",
      "     accuracy                           0.88      1854\n",
      "    macro avg       0.87      0.83      0.85      1854\n",
      " weighted avg       0.87      0.88      0.87      1854\n",
      "\n"
     ]
    }
   ],
   "source": [
    "# Evaluate the model on the testing set\n",
    "print(\"Classification Report on Testing Set:\")\n",
    "print(classification_report(y_test, y_pred_test))"
   ]
  },
  {
   "cell_type": "code",
   "execution_count": null,
   "metadata": {
    "colab": {
     "base_uri": "https://localhost:8080/"
    },
    "id": "kzeQP51KsFBo",
    "outputId": "0c97b064-b00e-4c36-f6c6-28d363cb18b6"
   },
   "outputs": [
    {
     "name": "stdout",
     "output_type": "stream",
     "text": [
      "Classification Report on Training Set:\n",
      "               precision    recall  f1-score   support\n",
      "\n",
      "Non-offensive       0.95      0.99      0.97      5120\n",
      "    Offensive       0.97      0.89      0.93      2294\n",
      "\n",
      "     accuracy                           0.96      7414\n",
      "    macro avg       0.96      0.94      0.95      7414\n",
      " weighted avg       0.96      0.96      0.96      7414\n",
      "\n"
     ]
    }
   ],
   "source": [
    "y_pred_train = svm_clf.predict(X_train_tfidf)\n",
    "\n",
    "# Evaluate the model on the training set\n",
    "print(\"Classification Report on Training Set:\")\n",
    "print(classification_report(y_train, y_pred_train))"
   ]
  },
  {
   "cell_type": "code",
   "execution_count": null,
   "metadata": {},
   "outputs": [],
   "source": [
    "import pickle\n",
    "from sklearn.feature_extraction.text import TfidfVectorizer\n",
    "from sklearn.svm import SVC\n",
    "from sklearn.metrics import classification_report\n",
    "\n",
    "# Preprocessing and vectorization\n",
    "tfidf_vectorizer = TfidfVectorizer()\n",
    "X_train_tfidf = tfidf_vectorizer.fit_transform(X_train)\n",
    "X_test_tfidf = tfidf_vectorizer.transform(X_test)\n",
    "\n",
    "# Initialize and train the SVM classifier\n",
    "svm_clf = SVC(kernel='linear', random_state=42)\n",
    "svm_clf.fit(X_train_tfidf, y_train)\n",
    "\n",
    "# Save the model to a file\n",
    "with open('svm_model.pkl', 'wb') as file:\n",
    "    pickle.dump(svm_clf, file)\n"
   ]
  },
  {
   "cell_type": "code",
   "execution_count": null,
   "metadata": {},
   "outputs": [
    {
     "name": "stdout",
     "output_type": "stream",
     "text": [
      "['Non-offensive' 'Offensive' 'Offensive' ... 'Non-offensive' 'Offensive'\n",
      " 'Offensive']\n"
     ]
    }
   ],
   "source": [
    "with open('svm_model.pkl', 'rb') as file:\n",
    "    loaded_model = pickle.load(file)\n",
    "\n",
    "# Assuming X_test_tfidf is your test data after TF-IDF vectorization\n",
    "y_pred_test = loaded_model.predict(X_test_tfidf)\n",
    "print(y_pred_test)"
   ]
  },
  {
   "cell_type": "code",
   "execution_count": null,
   "metadata": {
    "colab": {
     "base_uri": "https://localhost:8080/",
     "height": 564
    },
    "id": "QV3-R-iQsl_Q",
    "outputId": "a85ff0e2-a9b9-406e-cfd2-3c8093ffe391"
   },
   "outputs": [
    {
     "ename": "NameError",
     "evalue": "name 'sns' is not defined",
     "output_type": "error",
     "traceback": [
      "\u001b[1;31m---------------------------------------------------------------------------\u001b[0m",
      "\u001b[1;31mNameError\u001b[0m                                 Traceback (most recent call last)",
      "Cell \u001b[1;32mIn[14], line 6\u001b[0m\n\u001b[0;32m      4\u001b[0m \u001b[38;5;66;03m# Plot confusion matrix heatmap\u001b[39;00m\n\u001b[0;32m      5\u001b[0m plt\u001b[38;5;241m.\u001b[39mfigure(figsize\u001b[38;5;241m=\u001b[39m(\u001b[38;5;241m8\u001b[39m, \u001b[38;5;241m6\u001b[39m))\n\u001b[1;32m----> 6\u001b[0m \u001b[43msns\u001b[49m\u001b[38;5;241m.\u001b[39mheatmap(conf_matrix, annot\u001b[38;5;241m=\u001b[39m\u001b[38;5;28;01mTrue\u001b[39;00m, fmt\u001b[38;5;241m=\u001b[39m\u001b[38;5;124m'\u001b[39m\u001b[38;5;124md\u001b[39m\u001b[38;5;124m'\u001b[39m, cmap\u001b[38;5;241m=\u001b[39m\u001b[38;5;124m'\u001b[39m\u001b[38;5;124mBlues\u001b[39m\u001b[38;5;124m'\u001b[39m, xticklabels\u001b[38;5;241m=\u001b[39m[\u001b[38;5;124m'\u001b[39m\u001b[38;5;124mNon-Cyberbullying\u001b[39m\u001b[38;5;124m'\u001b[39m, \u001b[38;5;124m'\u001b[39m\u001b[38;5;124mCyberbullying\u001b[39m\u001b[38;5;124m'\u001b[39m], yticklabels\u001b[38;5;241m=\u001b[39m[\u001b[38;5;124m'\u001b[39m\u001b[38;5;124mNon-Cyberbullying\u001b[39m\u001b[38;5;124m'\u001b[39m, \u001b[38;5;124m'\u001b[39m\u001b[38;5;124mCyberbullying\u001b[39m\u001b[38;5;124m'\u001b[39m])\n\u001b[0;32m      7\u001b[0m plt\u001b[38;5;241m.\u001b[39mxlabel(\u001b[38;5;124m'\u001b[39m\u001b[38;5;124mPredicted\u001b[39m\u001b[38;5;124m'\u001b[39m)\n\u001b[0;32m      8\u001b[0m plt\u001b[38;5;241m.\u001b[39mylabel(\u001b[38;5;124m'\u001b[39m\u001b[38;5;124mActual\u001b[39m\u001b[38;5;124m'\u001b[39m)\n",
      "\u001b[1;31mNameError\u001b[0m: name 'sns' is not defined"
     ]
    },
    {
     "data": {
      "text/plain": [
       "<Figure size 800x600 with 0 Axes>"
      ]
     },
     "metadata": {},
     "output_type": "display_data"
    }
   ],
   "source": [
    "# Confusion matrix\n",
    "conf_matrix = confusion_matrix(y_test, y_pred_test)\n",
    "\n",
    "# Plot confusion matrix heatmap\n",
    "plt.figure(figsize=(8, 6))\n",
    "sns.heatmap(conf_matrix, annot=True, fmt='d', cmap='Blues', xticklabels=['Non-Cyberbullying', 'Cyberbullying'], yticklabels=['Non-Cyberbullying', 'Cyberbullying'])\n",
    "plt.xlabel('Predicted')\n",
    "plt.ylabel('Actual')\n",
    "plt.title('Confusion Matrix')\n",
    "plt.show()"
   ]
  },
  {
   "cell_type": "code",
   "execution_count": null,
   "metadata": {
    "id": "bH_GuhtysuLL"
   },
   "outputs": [],
   "source": [
    "# Convert categorical labels to binary format\n",
    "y_test_binary = y_test.map({'Non-offensive': 0, 'Offensive': 1})\n",
    "\n",
    "# ROC curve and AUC-ROC\n",
    "y_pred_probs = svm_clf.decision_function(X_test_tfidf)\n",
    "fpr, tpr, _ = roc_curve(y_test_binary, y_pred_probs)\n",
    "auc_roc = roc_auc_score(y_test_binary, y_pred_probs)\n"
   ]
  },
  {
   "cell_type": "code",
   "execution_count": null,
   "metadata": {
    "colab": {
     "base_uri": "https://localhost:8080/",
     "height": 564
    },
    "id": "b1ZwORRMtDqJ",
    "outputId": "6c722844-2bb5-476a-8bde-0d7280446074"
   },
   "outputs": [],
   "source": [
    "plt.figure(figsize=(8, 6))\n",
    "plt.plot(fpr, tpr, color='blue', label=f'AUC-ROC = {auc_roc:.2f}')\n",
    "plt.plot([0, 1], [0, 1], color='red', linestyle='--')\n",
    "plt.xlabel('False Positive Rate')\n",
    "plt.ylabel('True Positive Rate')\n",
    "plt.title('ROC Curve')\n",
    "plt.legend()\n",
    "plt.show()"
   ]
  },
  {
   "cell_type": "code",
   "execution_count": null,
   "metadata": {
    "colab": {
     "base_uri": "https://localhost:8080/",
     "height": 564
    },
    "id": "_b9n8ZQRtgg9",
    "outputId": "60894f63-db0c-463e-84fa-5adb4674e7d9"
   },
   "outputs": [],
   "source": [
    "# Convert categorical labels to binary format\n",
    "y_test_binary = y_test.map({'Non-offensive': 0, 'Offensive': 1})\n",
    "\n",
    "# Precision-Recall curve\n",
    "precision, recall, _ = precision_recall_curve(y_test_binary, y_pred_probs)\n",
    "\n",
    "plt.figure(figsize=(8, 6))\n",
    "plt.plot(recall, precision, color='green')\n",
    "plt.xlabel('Recall')\n",
    "plt.ylabel('Precision')\n",
    "plt.title('Precision-Recall Curve')\n",
    "plt.show()\n"
   ]
  },
  {
   "cell_type": "code",
   "execution_count": null,
   "metadata": {
    "id": "iwDZTdU-to6R"
   },
   "outputs": [],
   "source": [
    "from sklearn.feature_extraction.text import TfidfVectorizer\n",
    "from sklearn.naive_bayes import MultinomialNB\n",
    "from sklearn.metrics import classification_report, confusion_matrix, roc_curve, roc_auc_score, precision_recall_curve\n",
    "import seaborn as sns\n",
    "import matplotlib.pyplot as plt"
   ]
  },
  {
   "cell_type": "code",
   "execution_count": null,
   "metadata": {
    "id": "b4H83ssoExVu"
   },
   "outputs": [],
   "source": [
    "tfidf_vectorizer = TfidfVectorizer()\n",
    "X_train_tfidf = tfidf_vectorizer.fit_transform(X_train)\n",
    "X_test_tfidf = tfidf_vectorizer.transform(X_test)"
   ]
  },
  {
   "cell_type": "code",
   "execution_count": null,
   "metadata": {
    "colab": {
     "base_uri": "https://localhost:8080/",
     "height": 75
    },
    "id": "_Yt0xqiKE1TX",
    "outputId": "535bb77e-d2af-4677-b3fb-be3ea5be6b55"
   },
   "outputs": [],
   "source": [
    "# Initialize and train the Naive Bayes classifier\n",
    "nb_clf = MultinomialNB()\n",
    "nb_clf.fit(X_train_tfidf, y_train)"
   ]
  },
  {
   "cell_type": "code",
   "execution_count": null,
   "metadata": {
    "colab": {
     "base_uri": "https://localhost:8080/"
    },
    "id": "aBGmA3YTE5s1",
    "outputId": "215a4de3-dd93-47ee-8180-5855694ee115"
   },
   "outputs": [],
   "source": [
    "# Make predictions on the testing set\n",
    "y_pred_test_nb = nb_clf.predict(X_test_tfidf)\n",
    "\n",
    "# Evaluate the model on the testing set\n",
    "print(\"Classification Report on Testing Set:\")\n",
    "print(classification_report(y_test, y_pred_test_nb))"
   ]
  },
  {
   "cell_type": "code",
   "execution_count": null,
   "metadata": {
    "colab": {
     "base_uri": "https://localhost:8080/"
    },
    "id": "YIOmpyiZE986",
    "outputId": "12263e96-fa76-4af6-86c8-f9294781800f"
   },
   "outputs": [],
   "source": [
    "# Evaluate the model on the training set\n",
    "y_pred_train_nb = nb_clf.predict(X_train_tfidf)\n",
    "print(\"Classification Report on Training Set:\")\n",
    "print(classification_report(y_train, y_pred_train_nb))"
   ]
  },
  {
   "cell_type": "code",
   "execution_count": null,
   "metadata": {
    "colab": {
     "base_uri": "https://localhost:8080/",
     "height": 564
    },
    "id": "TgtrPML7FA0O",
    "outputId": "6f7d9113-3a50-4cc9-8e16-3604cac9b85c"
   },
   "outputs": [],
   "source": [
    "# Confusion matrix\n",
    "conf_matrix_nb = confusion_matrix(y_test, y_pred_test_nb)\n",
    "\n",
    "# Plot confusion matrix heatmap\n",
    "plt.figure(figsize=(8, 6))\n",
    "sns.heatmap(conf_matrix_nb, annot=True, fmt='d', cmap='Blues', xticklabels=['Non-Cyberbullying', 'Cyberbullying'], yticklabels=['Non-Cyberbullying', 'Cyberbullying'])\n",
    "plt.xlabel('Predicted')\n",
    "plt.ylabel('Actual')\n",
    "plt.title('Confusion Matrix for Naive Bayes')\n",
    "plt.show()\n"
   ]
  },
  {
   "cell_type": "code",
   "execution_count": null,
   "metadata": {
    "colab": {
     "base_uri": "https://localhost:8080/",
     "height": 564
    },
    "id": "ZT2Qx4DCFFVD",
    "outputId": "0dd0e864-8d47-4ff1-fd07-87da74acc010"
   },
   "outputs": [],
   "source": [
    "# ROC curve and AUC-ROC\n",
    "y_pred_probs_nb = nb_clf.predict_proba(X_test_tfidf)[:, 1]\n",
    "fpr_nb, tpr_nb, _ = roc_curve(y_test_binary, y_pred_probs_nb)\n",
    "auc_roc_nb = roc_auc_score(y_test_binary, y_pred_probs_nb)\n",
    "\n",
    "plt.figure(figsize=(8, 6))\n",
    "plt.plot(fpr_nb, tpr_nb, color='blue', label=f'AUC-ROC = {auc_roc_nb:.2f}')\n",
    "plt.plot([0, 1], [0, 1], color='red', linestyle='--')\n",
    "plt.xlabel('False Positive Rate')\n",
    "plt.ylabel('True Positive Rate')\n",
    "plt.title('ROC Curve for Naive Bayes')\n",
    "plt.legend()\n",
    "plt.show()"
   ]
  },
  {
   "cell_type": "code",
   "execution_count": null,
   "metadata": {
    "colab": {
     "base_uri": "https://localhost:8080/",
     "height": 564
    },
    "id": "tUoGVjZwFJc2",
    "outputId": "fe90869e-e220-4331-e495-7d1fdff900f7"
   },
   "outputs": [],
   "source": [
    "# Precision-Recall curve\n",
    "precision_nb, recall_nb, _ = precision_recall_curve(y_test_binary, y_pred_probs_nb)\n",
    "\n",
    "plt.figure(figsize=(8, 6))\n",
    "plt.plot(recall_nb, precision_nb, color='green')\n",
    "plt.xlabel('Recall')\n",
    "plt.ylabel('Precision')\n",
    "plt.title('Precision-Recall Curve for Naive Bayes')\n",
    "plt.show()"
   ]
  },
  {
   "cell_type": "code",
   "execution_count": null,
   "metadata": {
    "colab": {
     "base_uri": "https://localhost:8080/"
    },
    "id": "p_EBCcwmKfB3",
    "outputId": "221c48ab-0377-45f6-9902-25cd95398836"
   },
   "outputs": [],
   "source": [
    "from sklearn.ensemble import RandomForestClassifier\n",
    "from sklearn.metrics import classification_report\n",
    "from sklearn.preprocessing import StandardScaler\n",
    "df1 = pd.read_csv(\"/content/drive/MyDrive/Miniproject\")\n",
    "\n",
    "X = df1['full_text']\n",
    "y = df1['label']\n",
    "# Splitting the data into training and testing sets\n",
    "X_train_rf, X_test_rf, y_train_rf, y_test_rf = train_test_split(X, y, test_size=0.2, random_state=42)\n",
    "\n",
    "tfidf_vectorizer = TfidfVectorizer()\n",
    "\n",
    "X_train_tfidf_rf = tfidf_vectorizer.fit_transform(X_train_rf)\n",
    "X_test_tfidf_rf = tfidf_vectorizer.transform(X_test_rf)\n",
    "\n",
    "rfc = RandomForestClassifier(criterion='entropy', random_state=42)\n",
    "rfc.fit(X_train_tfidf_rf, y_train_rf)\n",
    "\n",
    "# Make predictions on the training set\n",
    "y_pred_train_rf = rfc.predict(X_train_tfidf_rf)\n",
    "\n",
    "# Evaluate the model on the training set\n",
    "print(\"Classification Report on Training Set:\")\n",
    "print(classification_report(y_train_rf, y_pred_train_rf))\n"
   ]
  },
  {
   "cell_type": "code",
   "execution_count": null,
   "metadata": {
    "colab": {
     "base_uri": "https://localhost:8080/"
    },
    "id": "qPLMtCzJKpVA",
    "outputId": "c8a04b1b-4453-486c-cfe6-6fdea8a8464c"
   },
   "outputs": [],
   "source": [
    "X_test_tfidf_rf = tfidf_vectorizer.transform(X_test_rf)\n",
    "\n",
    "y_pred_test_rf = rfc.predict(X_test_tfidf_rf)\n",
    "cm_test_rf = confusion_matrix(y_test_rf, y_pred_test_rf)\n",
    "print(cm_test_rf)\n",
    "pd.crosstab(y_test_rf, y_pred_test_rf)\n",
    "\n",
    "# Print classification report\n",
    "print(\"Classification Report on Testing Set:\")\n",
    "print(classification_report(y_test_rf, y_pred_test_rf))\n",
    "\n"
   ]
  },
  {
   "cell_type": "code",
   "execution_count": null,
   "metadata": {
    "colab": {
     "base_uri": "https://localhost:8080/",
     "height": 447
    },
    "id": "dHnCim-_KztI",
    "outputId": "a0998dff-115a-4731-9e61-d40849541b8b"
   },
   "outputs": [],
   "source": [
    "from sklearn.metrics import confusion_matrix\n",
    "cm_train_rf = confusion_matrix(y_train_rf, y_pred_train_rf)\n",
    "\n",
    "pd.crosstab(y_train_rf, y_pred_train_rf)\n",
    "sns.heatmap(cm_test_rf, annot=True, fmt='d', cmap='magma', xticklabels=['Non-Cyberbullying', 'Cyberbullying'], yticklabels=['Non-Cyberbullying', 'Cyberbullying'])\n",
    "\n"
   ]
  },
  {
   "cell_type": "code",
   "execution_count": null,
   "metadata": {
    "colab": {
     "base_uri": "https://localhost:8080/",
     "height": 564
    },
    "id": "938UirLpLodj",
    "outputId": "12ba8f37-105b-4068-d0ce-622a486b8a4c"
   },
   "outputs": [],
   "source": [
    "from sklearn.metrics import roc_curve, roc_auc_score\n",
    "import matplotlib.pyplot as plt\n",
    "\n",
    "# Assuming you have already trained a RandomForestClassifier model named rfc\n",
    "y_pred_probs_rf = rfc.predict_proba(X_test_tfidf_rf)[:, 1]  # Predict probabilities for the positive class\n",
    "\n",
    "# Convert categorical labels to binary labels\n",
    "y_test_binary = (y_test_rf == 'Offensive').astype(int)\n",
    "\n",
    "# Compute ROC curve\n",
    "fpr_rf, tpr_rf, _ = roc_curve(y_test_binary, y_pred_probs_rf)  # Compute fpr and tpr\n",
    "auc_roc_rf = roc_auc_score(y_test_binary, y_pred_probs_rf)  # Compute AUC-ROC score\n",
    "\n",
    "# Plot ROC curve\n",
    "plt.figure(figsize=(8, 6))\n",
    "plt.plot(fpr_rf, tpr_rf, color='blue', label=f'AUC-ROC = {auc_roc_rf:.2f}')\n",
    "plt.plot([0, 1], [0, 1], color='red', linestyle='--')\n",
    "plt.xlabel('False Positive Rate')\n",
    "plt.ylabel('True Positive Rate')\n",
    "plt.title('ROC Curve for Random Forest')\n",
    "plt.legend()\n",
    "plt.show()\n"
   ]
  },
  {
   "cell_type": "code",
   "execution_count": null,
   "metadata": {
    "colab": {
     "base_uri": "https://localhost:8080/",
     "height": 564
    },
    "id": "tle7OQD3MHBA",
    "outputId": "286e6aa6-806c-450c-f5ff-3e5a06635f7e"
   },
   "outputs": [],
   "source": [
    "from sklearn.metrics import precision_recall_curve, auc\n",
    "import matplotlib.pyplot as plt\n",
    "\n",
    "# Compute precision and recall\n",
    "precision_rf, recall_rf, _ = precision_recall_curve(y_test_binary, y_pred_probs_rf)\n",
    "\n",
    "# Compute area under the curve for precision-recall curve\n",
    "auc_pr_rf = auc(recall_rf, precision_rf)\n",
    "\n",
    "# Plot precision-recall curve\n",
    "plt.figure(figsize=(8, 6))\n",
    "plt.plot(recall_rf, precision_rf, color='blue', label=f'AUC-PR = {auc_pr_rf:.2f}')\n",
    "plt.xlabel('Recall')\n",
    "plt.ylabel('Precision')\n",
    "plt.title('Precision-Recall Curve for Random Forest')\n",
    "plt.legend()\n",
    "plt.show()\n"
   ]
  },
  {
   "cell_type": "code",
   "execution_count": null,
   "metadata": {
    "colab": {
     "base_uri": "https://localhost:8080/"
    },
    "id": "vPyG9ZvuFMm0",
    "outputId": "783b4d1e-52c8-43f9-f112-8db58af5180c"
   },
   "outputs": [],
   "source": [
    "# Calculate accuracy for SVM and Naive Bayes classifiers\n",
    "accuracy_svm_test = (y_pred_test == y_test).mean()\n",
    "accuracy_nb_test = (y_pred_test_nb == y_test).mean()\n",
    "accuracy_rf_test = (y_pred_test_rf == y_test_rf).mean()\n",
    "\n",
    "\n",
    "accuracy_svm_train = (y_pred_train == y_train).mean()\n",
    "accuracy_nb_train = (y_pred_train_nb == y_train).mean()\n",
    "accuracy_rf_train = (y_pred_train_rf == y_train_rf).mean()\n",
    "\n",
    "# Create a DataFrame to display the accuracy comparison\n",
    "accuracy_df = pd.DataFrame({\n",
    "    'Method': ['SVM', 'Naive Bayes','Random forest'],\n",
    "    'Test Accuracy': [accuracy_svm_test, accuracy_nb_test, accuracy_rf_test],\n",
    "    'Train Accuracy': [accuracy_svm_train, accuracy_nb_train, accuracy_rf_train],\n",
    "    'Train Accuracy': [accuracy_rf_train, accuracy_rf_train, accuracy_rf_train]\n",
    "})\n",
    "\n",
    "print(\"Accuracy Comparison between SVM, Naive Bayes and Random forest:\\n\")\n",
    "print(accuracy_df)\n"
   ]
  },
  {
   "cell_type": "code",
   "execution_count": null,
   "metadata": {
    "colab": {
     "base_uri": "https://localhost:8080/",
     "height": 564
    },
    "id": "4cbWCx86FirP",
    "outputId": "2aa94293-5c10-4d62-b7d7-bb556c3eb29b"
   },
   "outputs": [],
   "source": [
    "import matplotlib.pyplot as plt\n",
    "\n",
    "# Create lists for methods and accuracies\n",
    "methods = ['SVM', 'Naive Bayes', 'Random forest']\n",
    "test_accuracies = [accuracy_svm_test, accuracy_nb_test, accuracy_rf_test]\n",
    "train_accuracies = [accuracy_svm_train, accuracy_nb_train, accuracy_rf_train]\n",
    "\n",
    "# Define colors for test and train accuracies\n",
    "test_colors = ['blue', 'orange', 'purple']\n",
    "train_colors = ['lightblue', 'lightcoral','lightpink']\n",
    "\n",
    "# Plotting\n",
    "plt.figure(figsize=(10, 6))\n",
    "\n",
    "# Plot bars for test accuracies\n",
    "plt.bar(methods, test_accuracies, color=test_colors, hatch='/', alpha=0.7, label='Test Accuracy')\n",
    "\n",
    "# Plot bars for train accuracies\n",
    "plt.bar(methods, train_accuracies, color=train_colors, hatch='\\\\', alpha=0.7, label='Train Accuracy')\n",
    "\n",
    "# Adding labels and title\n",
    "plt.xlabel('Method')\n",
    "plt.ylabel('Accuracy')\n",
    "plt.title('Comparison of Accuracy between SVM Naive Bayes and Random forest ')\n",
    "plt.legend()\n",
    "\n",
    "plt.show()\n"
   ]
  },
  {
   "cell_type": "code",
   "execution_count": null,
   "metadata": {
    "colab": {
     "base_uri": "https://localhost:8080/",
     "height": 564
    },
    "id": "OPAJIIfiF_9U",
    "outputId": "57d1e0fc-3166-4de4-9294-28b0bc0a48d1"
   },
   "outputs": [],
   "source": [
    "import numpy as np\n",
    "\n",
    "# Define width of each bar\n",
    "bar_width = 0.35\n",
    "\n",
    "# Define index for each method\n",
    "index = np.arange(len(methods))\n",
    "\n",
    "# Plotting\n",
    "plt.figure(figsize=(10, 6))\n",
    "\n",
    "# Plot bars for test accuracies\n",
    "plt.bar(index, test_accuracies, bar_width, color='blue', label='Test Accuracy')\n",
    "\n",
    "# Plot bars for train accuracies\n",
    "plt.bar(index + bar_width, train_accuracies, bar_width, color='orange', label='Train Accuracy')\n",
    "\n",
    "# Adding labels and title\n",
    "plt.xlabel('Method')\n",
    "plt.ylabel('Accuracy')\n",
    "plt.title('Comparison of Accuracy between SVM Naive Bayes and Random forest')\n",
    "plt.xticks(index + bar_width / 2, methods)\n",
    "plt.legend()\n",
    "\n",
    "plt.show()\n"
   ]
  },
  {
   "cell_type": "code",
   "execution_count": null,
   "metadata": {
    "colab": {
     "base_uri": "https://localhost:8080/",
     "height": 564
    },
    "id": "4Rpi1LMjHE0x",
    "outputId": "e3d17a94-5304-4962-88bb-438d08c16aa6"
   },
   "outputs": [],
   "source": [
    "import matplotlib.pyplot as plt\n",
    "import numpy as np\n",
    "\n",
    "# Create lists for methods and accuracies\n",
    "methods = ['SVM', 'Naive Bayes', 'Random forest']\n",
    "test_accuracies = [accuracy_svm_test, accuracy_nb_test, accuracy_rf_test]\n",
    "train_accuracies = [accuracy_svm_train, accuracy_nb_train, accuracy_rf_train]\n",
    "\n",
    "# Define index for each method\n",
    "index = np.arange(len(methods))\n",
    "\n",
    "# Plotting\n",
    "plt.figure(figsize=(10, 6))\n",
    "\n",
    "# Plot bars for train accuracies\n",
    "plt.bar(index, train_accuracies, color='orange', label='Train Accuracy')\n",
    "\n",
    "# Plot bars for test accuracies on top of train accuracies\n",
    "plt.bar(index, test_accuracies, color='blue', label='Test Accuracy', bottom=train_accuracies)\n",
    "\n",
    "# Adding labels and title\n",
    "plt.xlabel('Method')\n",
    "plt.ylabel('Accuracy')\n",
    "plt.title('Comparison of Accuracy between SVM Naive Bayes and Random forest')\n",
    "plt.xticks(index, methods)\n",
    "plt.legend()\n",
    "\n",
    "plt.show()\n"
   ]
  }
 ],
 "metadata": {
  "colab": {
   "provenance": []
  },
  "kernelspec": {
   "display_name": "Python 3 (ipykernel)",
   "language": "python",
   "name": "python3"
  },
  "language_info": {
   "codemirror_mode": {
    "name": "ipython",
    "version": 3
   },
   "file_extension": ".py",
   "mimetype": "text/x-python",
   "name": "python",
   "nbconvert_exporter": "python",
   "pygments_lexer": "ipython3",
   "version": "3.9.19"
  }
 },
 "nbformat": 4,
 "nbformat_minor": 4
}
